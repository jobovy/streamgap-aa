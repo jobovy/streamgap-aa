{
 "metadata": {
  "name": "",
  "signature": "sha256:a7c6c4a582e033fe621b52a3ab616001b383deaa5eaa062205c287b7992e488a"
 },
 "nbformat": 3,
 "nbformat_minor": 0,
 "worksheets": [
  {
   "cells": [
    {
     "cell_type": "code",
     "collapsed": false,
     "input": [
      "try:\n",
      "    reload(galpy.df_src.streamgapdf)\n",
      "except NameError:\n",
      "    import galpy.df_src.streamgapdf\n",
      "from galpy.util import bovy_plot\n",
      "matplotlib.rc('text', usetex=True)\n",
      "matplotlib.rcParams['text.latex.preamble']=[r\"\\usepackage{amsmath}\"]"
     ],
     "language": "python",
     "metadata": {},
     "outputs": [],
     "prompt_number": 1
    },
    {
     "cell_type": "markdown",
     "metadata": {},
     "source": [
      "# Modeling stream gaps using *galpy*\n",
      "\n",
      "This notebook is split into 3 sections. \n",
      "\n",
      "1. We test the analytic computation of the velocity kicks for both Plummer and Hernquist profiles.\n",
      "2. We generate Fig. 2 of Sanders, Bovy & Erkal (2015, SBE15) which compares the kicks from different subhalo profiles.\n",
      "3. We generate Fig. 1 of SBE15 which computes the kicks for a curved stream track with increasing levels of complexity"
     ]
    },
    {
     "cell_type": "heading",
     "level": 2,
     "metadata": {},
     "source": [
      "1. Test of the calculation of the velocity kicks"
     ]
    },
    {
     "cell_type": "markdown",
     "metadata": {},
     "source": [
      "We attempt to recover the behavior in Fig. 3 of Erkal & Belokurov (2015). Assume that the stream is moving on a straight line with a given velocity in the *y* direction"
     ]
    },
    {
     "cell_type": "code",
     "collapsed": false,
     "input": [
      "nv= 1001\n",
      "v= numpy.tile(numpy.array([0.000001,2.,0.000001]),(nv,1)) #tiny bit of noise to make the rotation work\n",
      "w= numpy.array([0.6,1.2,0.])\n",
      "b= numpy.sqrt(3.)\n",
      "GM, rs= 2., numpy.sqrt(4.)\n",
      "# Likely region over which the kick acts\n",
      "dy= 3.5*numpy.sqrt((b**2.+rs**2.))/w[0]\n",
      "y= numpy.linspace(-3.*dy,3.*dy,nv)"
     ],
     "language": "python",
     "metadata": {},
     "outputs": [],
     "prompt_number": 2
    },
    {
     "cell_type": "code",
     "collapsed": false,
     "input": [
      "deltav_analytic= galpy.df_src.streamgapdf.impulse_deltav_plummer(v,y,b,w,GM,rs)"
     ],
     "language": "python",
     "metadata": {},
     "outputs": [],
     "prompt_number": 3
    },
    {
     "cell_type": "code",
     "collapsed": false,
     "input": [
      "figsize(10,6)\n",
      "bovy_plot.bovy_plot(y,deltav_analytic[:,1],xlabel=r'$y$',ylabel=r'$\\Delta v_y$',yrange=[-.7,.7],gcf=True)\n",
      "plt.axvline(numpy.sqrt((b**2.+rs**2.))/w[0],color='k')\n",
      "plt.axhline(GM*w[0]/numpy.sqrt((b**2.+rs**2.)),color='k')"
     ],
     "language": "python",
     "metadata": {},
     "outputs": [
      {
       "metadata": {},
       "output_type": "pyout",
       "prompt_number": 4,
       "text": [
        "<matplotlib.lines.Line2D at 0x109a6ebd0>"
       ]
      },
      {
       "metadata": {},
       "output_type": "display_data",
       "png": "[encoded data removed]",
       "text": [
        "<matplotlib.figure.Figure at 0x109a19890>"
       ]
      }
     ],
     "prompt_number": 4
    },
    {
     "cell_type": "markdown",
     "metadata": {},
     "source": [
      "We test the numerical calculation of the kicks. **Jo edited the code such that galpy potential objects can be used**"
     ]
    },
    {
     "cell_type": "code",
     "collapsed": false,
     "input": [
      "from galpy.potential import PlummerPotential, NFWPotential, HernquistPotential, LogarithmicHaloPotential"
     ],
     "language": "python",
     "metadata": {},
     "outputs": [],
     "prompt_number": 5
    },
    {
     "cell_type": "code",
     "collapsed": false,
     "input": [
      "# Density and mass profiles for plummer, hernquist and plummer\n",
      "def plummer_density(r,M,rs):\n",
      "    return .75*M/np.pi/rs**3*(1+(r/rs)**2)**-2.5\n",
      "def plummer_mass(r,M,rs):\n",
      "    return M*r**3/(r*r+rs*rs)**1.5\n",
      "def nfw_density(r,M,rs):\n",
      "    return .25*M/np.pi/rs**3/(r/rs)/(1+r/rs)**2\n",
      "def nfw_mass(r,M,rs):\n",
      "    return M*(np.log((rs+r)/rs)-r/(rs+r))\n",
      "def hernquist_density(r,M,rs):\n",
      "    return 0.5*M/np.pi*rs/r*(r+rs)**-3\n",
      "def hernquist_mass(r,M,rs):\n",
      "    return M*(r/(r+rs))**2"
     ],
     "language": "python",
     "metadata": {},
     "outputs": [],
     "prompt_number": 6
    },
    {
     "cell_type": "markdown",
     "metadata": {},
     "source": [
      "### Plummer kicks\n",
      "\n",
      "Analytic expressions as in Section 2 of SBE15"
     ]
    },
    {
     "cell_type": "code",
     "collapsed": false,
     "input": [
      "pot= PlummerPotential(amp=2.,b=2.)\n",
      "deltav= galpy.df_src.streamgapdf.impulse_deltav_general(v,y,b,w,pot)\n",
      "plt.plot(y,deltav); plt.plot(y,deltav_analytic); plt.xlabel(r'$y$'); plt.ylabel(r'$\\Delta v$')"
     ],
     "language": "python",
     "metadata": {},
     "outputs": [
      {
       "metadata": {},
       "output_type": "pyout",
       "prompt_number": 7,
       "text": [
        "<matplotlib.text.Text at 0x109c87dd0>"
       ]
      },
      {
       "metadata": {},
       "output_type": "display_data",
       "png": "[encoded data removed]",
       "text": [
        "<matplotlib.figure.Figure at 0x109e3a850>"
       ]
      }
     ],
     "prompt_number": 7
    },
    {
     "cell_type": "code",
     "collapsed": false,
     "input": [
      "plt.plot(y,deltav-deltav_analytic); plt.xlabel(r'$y$'); plt.ylabel(r'Error in $\\Delta v$')"
     ],
     "language": "python",
     "metadata": {},
     "outputs": [
      {
       "metadata": {},
       "output_type": "pyout",
       "prompt_number": 8,
       "text": [
        "<matplotlib.text.Text at 0x109a19750>"
       ]
      },
      {
       "metadata": {},
       "output_type": "display_data",
       "png": "[encoded data removed]",
       "text": [
        "<matplotlib.figure.Figure at 0x109101d50>"
       ]
      }
     ],
     "prompt_number": 8
    },
    {
     "cell_type": "markdown",
     "metadata": {},
     "source": [
      "### Hernquist kicks\n",
      "\n",
      "Analytic expressions as in Appendix A of SBE15"
     ]
    },
    {
     "cell_type": "code",
     "collapsed": false,
     "input": [
      "deltav_analytic= galpy.df_src.streamgapdf.impulse_deltav_hernquist(v,y,b,w,GM,rs)\n",
      "pot_h= HernquistPotential(amp=2*GM,a=rs)\n",
      "deltav= galpy.df_src.streamgapdf.impulse_deltav_general(v,y,b,w,pot_h)\n",
      "plt.plot(y,deltav-deltav_analytic); plt.xlabel(r'$y$'); plt.ylabel(r'$\\Delta v$')"
     ],
     "language": "python",
     "metadata": {},
     "outputs": [
      {
       "metadata": {},
       "output_type": "pyout",
       "prompt_number": 9,
       "text": [
        "<matplotlib.text.Text at 0x109cf39d0>"
       ]
      },
      {
       "metadata": {},
       "output_type": "display_data",
       "png": "[encoded data removed]",
       "text": [
        "<matplotlib.figure.Figure at 0x109eaafd0>"
       ]
      }
     ],
     "prompt_number": 9
    },
    {
     "cell_type": "code",
     "collapsed": false,
     "input": [
      "plt.plot(y,deltav-deltav_analytic); plt.xlabel(r'$y$'); plt.ylabel(r'Error in $\\Delta v$')"
     ],
     "language": "python",
     "metadata": {},
     "outputs": [
      {
       "metadata": {},
       "output_type": "pyout",
       "prompt_number": 10,
       "text": [
        "<matplotlib.text.Text at 0x10a304690>"
       ]
      },
      {
       "metadata": {},
       "output_type": "display_data",
       "png": "[encoded data removed]",
       "text": [
        "<matplotlib.figure.Figure at 0x10a30e510>"
       ]
      }
     ],
     "prompt_number": 10
    },
    {
     "cell_type": "markdown",
     "metadata": {},
     "source": [
      "## 2. Subhalo comparison\n",
      "\n",
      "The following generates Fig. 2 of SBE15. We calculate the velocity kicks for a Plummer, Hernquist, NFW, truncated NFW and Kepler. \n",
      "\n",
      "Plummer has scale radius rs=1, GM=2.\n",
      "\n",
      "Hernquist and truncated NFW have same M(rs) and M(inf) as Plummer\n",
      "\n",
      "NFW has same M(rs) as Plummer and GM=2.\n",
      "\n",
      "Kepler has same M(rs) as Plummer"
     ]
    },
    {
     "cell_type": "code",
     "collapsed": false,
     "input": [
      "# Truncated NFW profile (equation(10)) of SBE15\n",
      "from scipy.integrate import quad\n",
      "from galpy.potential import Potential\n",
      "class nfw_trunc(Potential):\n",
      "    def __init__(self,amp,b,rt):\n",
      "        Potential.__init__(self,amp=amp)\n",
      "        self.GM=GM\n",
      "        self.rt=rt\n",
      "        self._b= b\n",
      "        self._scale= self._b\n",
      "        self._b2= self._b**2.\n",
      "        print self._amp\n",
      "    def _dens(self,R,z=0.,phi=0.,t=0.):\n",
      "        return .25/np.pi/self._b**3/(R/self._b)/(1+R/self._b)**2*np.sqrt(1-np.tanh(R/self.rt)**2)\n",
      "    def _evaluate(self,R,z=0.,phi=0.,t=0.):\n",
      "        return -4.*np.pi*(quad(lambda x:x**2*self._dens(x,0.),0.,R)[0]/R+quad(lambda x:x*self._dens(x,0.),R,100.*self.rt)[0])\n",
      "    def _Rforce(self,R,z=0.,phi=0.,t=0.):\n",
      "        return-4.*np.pi*quad(lambda x:x**2*self._dens(x,0.),0.,R)[0]/R**2\n",
      "    def _mass(self,R,z=0.,t=0.):\n",
      "        return 4.*np.pi*quad(lambda x:x**2*self._dens(x,0.),0.,R)[0]\n",
      "def nfwt_mass(R,GM,rs,rt):\n",
      "    def dens(r):\n",
      "        return .25/np.pi/rs**3/(r/rs)/(1+r/rs)**2*np.sqrt(1-np.tanh(r/rt)**2)\n",
      "    return 4.*GM*np.pi*quad(lambda x:x**2*dens(x),0.,R)[0]\n",
      "def nfwt_dens(r,GM,rs,rt):\n",
      "    return .25*GM/np.pi/rs**3/(r/rs)/(1+r/rs)**2*np.sqrt(1-np.tanh(r/rt)**2)"
     ],
     "language": "python",
     "metadata": {},
     "outputs": [],
     "prompt_number": 11
    },
    {
     "cell_type": "code",
     "collapsed": false,
     "input": [
      "from scipy.optimize import brentq\n",
      "print 'Scale radius of NFW sphere for same mass to be contained with Plummer sphere scale radius'\n",
      "nfw_scale = brentq(lambda a: plummer_mass(rs,GM,rs) - nfw_mass(rs,GM,a),0.05,rs)\n",
      "print nfw_scale\n",
      "print 'Scale radius of Hernquist sphere for same mass to be contained with Plummer sphere scale radius'\n",
      "hern_scale = brentq(lambda a: plummer_mass(rs,GM,rs) - hernquist_mass(rs,GM,a),0.05,3.*rs)\n",
      "print hern_scale\n",
      "print 'Scale radius and mass of NFW trunc sphere for same mass to be contained with Plummer sphere scale radius'\n",
      "from scipy.optimize import fmin\n",
      "X = fmin(lambda a: (plummer_mass(rs,GM,rs) - nfwt_mass(rs,a[1],a[0],2.*a[0]))**2+(plummer_mass(1000.*rs,GM,rs) - nfwt_mass(1000.*rs,a[1],a[0],2.*a[0]))**2,np.array([1.,2.]))\n",
      "nfwt_scale = X[0]\n",
      "nfwt_m = X[1]\n",
      "print nfwt_scale,nfwt_m"
     ],
     "language": "python",
     "metadata": {},
     "outputs": [
      {
       "output_type": "stream",
       "stream": "stdout",
       "text": [
        "Scale radius of NFW sphere for same mass to be contained with Plummer sphere scale radius\n",
        "1.20702728395\n",
        "Scale radius of Hernquist sphere for same mass to be contained with Plummer sphere scale radius\n",
        "1.36358566101\n",
        "Scale radius and mass of NFW trunc sphere for same mass to be contained with Plummer sphere scale radius\n",
        "Optimization terminated successfully."
       ]
      },
      {
       "output_type": "stream",
       "stream": "stdout",
       "text": [
        "\n",
        "         Current function value: 0.000000\n",
        "         Iterations: 47\n",
        "         Function evaluations: 92\n",
        "1.75548831426 3.30205460426\n"
       ]
      }
     ],
     "prompt_number": 12
    },
    {
     "cell_type": "code",
     "collapsed": false,
     "input": [
      "pot_nfw = NFWPotential(amp=GM,a=nfw_scale)\n",
      "deltav_nfw= galpy.df_src.streamgapdf.impulse_deltav_general(v,y,b,w,pot_nfw)"
     ],
     "language": "python",
     "metadata": {},
     "outputs": [
      {
       "output_type": "stream",
       "stream": "stdout",
       "text": [
        "/Users/jls/anaconda/lib/python2.7/site-packages/scipy/integrate/quadpack.py:321: IntegrationWarning: The integral is probably divergent, or slowly convergent.\n",
        "  warnings.warn(msg, IntegrationWarning)\n",
        "\n"
       ]
      }
     ],
     "prompt_number": 13
    },
    {
     "cell_type": "code",
     "collapsed": false,
     "input": [
      "pot_nfw_t = nfw_trunc(nfwt_m,nfwt_scale,2.*nfwt_scale)\n",
      "deltav_nfw_t= galpy.df_src.streamgapdf.impulse_deltav_general(v[::20],y[::20],b,w,pot_nfw_t)"
     ],
     "language": "python",
     "metadata": {},
     "outputs": [
      {
       "output_type": "stream",
       "stream": "stdout",
       "text": [
        "3.30205460426\n"
       ]
      }
     ],
     "prompt_number": 14
    },
    {
     "cell_type": "code",
     "collapsed": false,
     "input": [
      "pot_h = HernquistPotential(2.*GM,hern_scale)\n",
      "deltav_hern= galpy.df_src.streamgapdf.impulse_deltav_hernquist(v,y,b,w,GM,hern_scale)"
     ],
     "language": "python",
     "metadata": {},
     "outputs": [],
     "prompt_number": 15
    },
    {
     "cell_type": "code",
     "collapsed": false,
     "input": [
      "deltav_kep= galpy.df_src.streamgapdf.impulse_deltav_hernquist(v,y,b,w,plummer_mass(rs,GM,rs),0.)"
     ],
     "language": "python",
     "metadata": {},
     "outputs": [],
     "prompt_number": 16
    },
    {
     "cell_type": "code",
     "collapsed": false,
     "input": [
      "print 'Mass at scale radius'\n",
      "print 'Plummer:',plummer_mass(rs,GM,rs)\n",
      "print 'Hernquist:',hernquist_mass(rs,GM,hern_scale),  pot_h.mass(rs)\n",
      "print 'NFW:',nfw_mass(rs,GM,nfw_scale), pot_nfw.mass(rs)\n",
      "print 'Trunc NFW:',nfwt_mass(rs,nfwt_m,nfwt_scale,2.*nfwt_scale),pot_nfw_t.mass(rs)"
     ],
     "language": "python",
     "metadata": {},
     "outputs": [
      {
       "output_type": "stream",
       "stream": "stdout",
       "text": [
        "Mass at scale radius\n",
        "Plummer: 0.707106781187\n",
        "Hernquist: 0.707106781187 0.707106781187\n",
        "NFW: 0.707106781187 0.707106781187\n",
        "Trunc NFW: 0.707095431699 0.707095431699\n"
       ]
      }
     ],
     "prompt_number": 17
    },
    {
     "cell_type": "code",
     "collapsed": false,
     "input": [
      "print 'Density at scale radius'\n",
      "print 'Hernquist:',hernquist_density(rs,GM,hern_scale),  pot_h.dens(rs,0.)\n",
      "print 'NFW:',nfw_density(rs,GM,nfw_scale), pot_nfw.dens(rs,0.)\n",
      "print 'Trunc NFW:',nfwt_dens(rs,nfwt_m,nfwt_scale,2.*nfwt_scale),pot_nfw_t.dens(rs,0.)"
     ],
     "language": "python",
     "metadata": {},
     "outputs": [
      {
       "output_type": "stream",
       "stream": "stdout",
       "text": [
        "Density at scale radius\n",
        "Hernquist: 0.00570289112021 0.00570289112021\n",
        "NFW: 0.0077372178758 0.0077372178758\n",
        "Trunc NFW: 0.00798471480949 0.00798471480949\n"
       ]
      }
     ],
     "prompt_number": 18
    },
    {
     "cell_type": "code",
     "collapsed": false,
     "input": [
      "print 'Total mass'\n",
      "print 'Plummer:',plummer_mass(1000.*rs,GM,rs), GM\n",
      "print 'Hernquist:',hernquist_mass(1000.*rs,GM,hern_scale),  pot_h.mass(1000.*rs)\n",
      "print 'NFW:',nfw_mass(1000.*rs,GM,nfw_scale), pot_nfw.mass(1000.*rs)\n",
      "print 'Trunc NFW:',nnfwt_mass(1000.*rs,nfwt_m,nfwt_scale,2.*nfwt_scale),pot_nfw_t.mass(1000.*rs)"
     ],
     "language": "python",
     "metadata": {},
     "outputs": [
      {
       "output_type": "stream",
       "stream": "stdout",
       "text": [
        "Total mass\n",
        "Plummer: 1.999997 2.0\n",
        "Hernquist: 1.99727561519 1.99727561519\n",
        "NFW: 12.8278967883 12.8278967883\n",
        "Trunc NFW:"
       ]
      },
      {
       "ename": "NameError",
       "evalue": "name 'nnfwt_mass' is not defined",
       "output_type": "pyerr",
       "traceback": [
        "\u001b[0;31m---------------------------------------------------------------------------\u001b[0m\n\u001b[0;31mNameError\u001b[0m                                 Traceback (most recent call last)",
        "\u001b[0;32m<ipython-input-19-230693617c77>\u001b[0m in \u001b[0;36m<module>\u001b[0;34m()\u001b[0m\n\u001b[1;32m      3\u001b[0m \u001b[0;32mprint\u001b[0m \u001b[0;34m'Hernquist:'\u001b[0m\u001b[0;34m,\u001b[0m\u001b[0mhernquist_mass\u001b[0m\u001b[0;34m(\u001b[0m\u001b[0;36m1000.\u001b[0m\u001b[0;34m*\u001b[0m\u001b[0mrs\u001b[0m\u001b[0;34m,\u001b[0m\u001b[0mGM\u001b[0m\u001b[0;34m,\u001b[0m\u001b[0mhern_scale\u001b[0m\u001b[0;34m)\u001b[0m\u001b[0;34m,\u001b[0m  \u001b[0mpot_h\u001b[0m\u001b[0;34m.\u001b[0m\u001b[0mmass\u001b[0m\u001b[0;34m(\u001b[0m\u001b[0;36m1000.\u001b[0m\u001b[0;34m*\u001b[0m\u001b[0mrs\u001b[0m\u001b[0;34m)\u001b[0m\u001b[0;34m\u001b[0m\u001b[0m\n\u001b[1;32m      4\u001b[0m \u001b[0;32mprint\u001b[0m \u001b[0;34m'NFW:'\u001b[0m\u001b[0;34m,\u001b[0m\u001b[0mnfw_mass\u001b[0m\u001b[0;34m(\u001b[0m\u001b[0;36m1000.\u001b[0m\u001b[0;34m*\u001b[0m\u001b[0mrs\u001b[0m\u001b[0;34m,\u001b[0m\u001b[0mGM\u001b[0m\u001b[0;34m,\u001b[0m\u001b[0mnfw_scale\u001b[0m\u001b[0;34m)\u001b[0m\u001b[0;34m,\u001b[0m \u001b[0mpot_nfw\u001b[0m\u001b[0;34m.\u001b[0m\u001b[0mmass\u001b[0m\u001b[0;34m(\u001b[0m\u001b[0;36m1000.\u001b[0m\u001b[0;34m*\u001b[0m\u001b[0mrs\u001b[0m\u001b[0;34m)\u001b[0m\u001b[0;34m\u001b[0m\u001b[0m\n\u001b[0;32m----> 5\u001b[0;31m \u001b[0;32mprint\u001b[0m \u001b[0;34m'Trunc NFW:'\u001b[0m\u001b[0;34m,\u001b[0m\u001b[0mnnfwt_mass\u001b[0m\u001b[0;34m(\u001b[0m\u001b[0;36m1000.\u001b[0m\u001b[0;34m*\u001b[0m\u001b[0mrs\u001b[0m\u001b[0;34m,\u001b[0m\u001b[0mnfwt_m\u001b[0m\u001b[0;34m,\u001b[0m\u001b[0mnfwt_scale\u001b[0m\u001b[0;34m,\u001b[0m\u001b[0;36m2.\u001b[0m\u001b[0;34m*\u001b[0m\u001b[0mnfwt_scale\u001b[0m\u001b[0;34m)\u001b[0m\u001b[0;34m,\u001b[0m\u001b[0mpot_nfw_t\u001b[0m\u001b[0;34m.\u001b[0m\u001b[0mmass\u001b[0m\u001b[0;34m(\u001b[0m\u001b[0;36m1000.\u001b[0m\u001b[0;34m*\u001b[0m\u001b[0mrs\u001b[0m\u001b[0;34m)\u001b[0m\u001b[0;34m\u001b[0m\u001b[0m\n\u001b[0m",
        "\u001b[0;31mNameError\u001b[0m: name 'nnfwt_mass' is not defined"
       ]
      }
     ],
     "prompt_number": 19
    },
    {
     "cell_type": "code",
     "collapsed": false,
     "input": [
      "vy = v[0][1]\n",
      "f=plt.figure(figsize=(22.5,4))\n",
      "a = [plt.subplot2grid((2,5), (i,0), colspan=1,rowspan=1) for i in range(2)]\n",
      "x = np.logspace(-2.,2.)*rs\n",
      "for i in range(2):\n",
      "    a[i].semilogy()\n",
      "    a[i].semilogx()\n",
      "a[0].plot(x/rs,plummer_density(x,GM,rs)/GM*rs**3,'k',label='Plummer')\n",
      "a[0].plot(x/rs,hernquist_density(x,GM,hern_scale)/GM*rs**3,'g--',label='Hernquist')\n",
      "l,=a[0].plot(x/rs,nfw_density(x,GM,nfw_scale)/GM*rs**3,'r--',label='NFW')\n",
      "l.set_dashes([6.,1.])\n",
      "l,=a[0].plot(x/rs,map(lambda i:pot_nfw_t.dens(i,0.)/GM*rs**3,x),'b--',label='NFW truncated')\n",
      "l.set_dashes([3.,1.])\n",
      "a[0].set_xticklabels([])\n",
      "a[0].set_ylabel(r'$\\rho(r)/M r_s^{-3}$')\n",
      "a[0].legend(loc=3,handlelength=1.,fontsize=14)\n",
      "yloc = plt.LogLocator(numticks=6)\n",
      "a[0].yaxis.set_major_locator(yloc)\n",
      "a[1].plot(x/rs,plummer_mass(x,GM,rs)/GM,'k',label='Plummer')\n",
      "l,=a[1].plot(x/rs,hernquist_mass(x,GM,hern_scale)/GM,'g--',label='Plummer')\n",
      "l.set_dashes([8.,3.])\n",
      "l,=a[1].plot(x/rs,nfw_mass(x,GM,nfw_scale)/GM,'r--',label='NFW')\n",
      "l.set_dashes([6.,1.])\n",
      "l,=a[1].plot(x/rs,map(lambda i:pot_nfw_t.mass(i,0.)/GM,x),'b--',label='NFW truncated')\n",
      "l.set_dashes([3.,1.])\n",
      "a[1].axvline(1.,ls='dashed',color='k')\n",
      "a[1].set_xlabel(r'$r/r_s$')\n",
      "a[1].set_ylabel(r'$M(r)/M$')\n",
      "yloc = plt.LogLocator(numticks=6)\n",
      "a[1].yaxis.set_major_locator(yloc)\n",
      "a[0].yaxis.get_major_ticks()[1].label1.set_visible(False)\n",
      "a[0].annotate('(a)', xy=(0.95, 0.8), xycoords='axes fraction', fontsize=18,\n",
      "                horizontalalignment='right', verticalalignment='top')\n",
      "\n",
      "a = [plt.subplot2grid((2,5), (0,i), colspan=1,rowspan=2) for i in range(1,5)]\n",
      "plt.subplots_adjust(hspace=0.)\n",
      "plt.subplots_adjust(wspace=0.355)\n",
      "labels = [r'$\\delta v^g_x/v_y$',r'$\\delta v^g_y/v_y$',r'$\\delta v^g_z/v_y$',r'$\\boldsymbol{v}\\cdot\\delta \\boldsymbol{v}^g/(|\\boldsymbol{v}|v_y)$']\n",
      "for i in range(3):\n",
      "    a[i].plot(y/rs,deltav_analytic[:,i]/vy,'k')\n",
      "    l,=a[i].plot(y/rs,deltav_hern[:,i]/vy,'g--')\n",
      "    l.set_dashes([8.,3.])\n",
      "    l,=a[i].plot(y/rs,deltav_nfw[:,i]/vy,'r--')\n",
      "    l.set_dashes([6.,1.])\n",
      "    l,=a[i].plot(y[::20]/rs,deltav_nfw_t[:,i]/vy,'b--')\n",
      "    l.set_dashes([3.,1.])\n",
      "    l,=a[i].plot(y/rs,deltav_kep[:,i]/vy,color='purple',label='Kepler')\n",
      "    l.set_dashes([10.,2.])\n",
      "    a[i].set_xlim(-20.,20.)\n",
      "    a[i].set_ylabel(labels[i])\n",
      "    a[i].set_xlabel(r'$y/r_s$')\n",
      "a[0].legend(loc=3,fontsize=14,handlelength=1.5)\n",
      "a[3].plot(y/rs,np.sum(v*deltav_analytic,axis=1)/vy/np.sqrt(np.sum(v*v)),'k',label='Plummer')\n",
      "l,=a[3].plot(y/rs,np.sum(v*deltav_hern,axis=1)/vy/np.sqrt(np.sum(v*v)),'g--',label='Hernquist')\n",
      "l.set_dashes([8.,3.])\n",
      "l,=a[3].plot(y/rs,np.sum(v*deltav_nfw,axis=1)/vy/np.sqrt(np.sum(v*v)),'r--',label='NFW')\n",
      "l.set_dashes([6.,1.])\n",
      "l,=a[3].plot(y[::20]/rs,np.sum(v[::20]*deltav_nfw_t,axis=1)/vy/np.sqrt(np.sum(v*v)),'b--',label='NFW truncated')\n",
      "l.set_dashes([3.,1.])\n",
      "l,=a[3].plot(y/rs,np.sum(v*deltav_kep,axis=1)/vy/np.sqrt(np.sum(v*v)),color='purple',ls='--',label='Kepler')\n",
      "l.set_dashes([10.,2.])\n",
      "a[3].set_xlim(-20.,20.)\n",
      "a[3].set_ylabel(labels[3])\n",
      "a[3].set_xlabel(r'$y/r_s$')\n",
      "a[0].annotate('(b)', xy=(0.95, 0.9), xycoords='axes fraction', fontsize=18,\n",
      "                horizontalalignment='right', verticalalignment='top')\n",
      "a[1].annotate('(c)', xy=(0.95, 0.9), xycoords='axes fraction', fontsize=18,\n",
      "                horizontalalignment='right', verticalalignment='top')\n",
      "a[2].annotate('(d)', xy=(0.95, 0.9), xycoords='axes fraction', fontsize=18,\n",
      "                horizontalalignment='right', verticalalignment='top')\n",
      "a[3].annotate('(e)', xy=(0.95, 0.9), xycoords='axes fraction', fontsize=18,\n",
      "                horizontalalignment='right', verticalalignment='top')\n",
      "plt.savefig('nfw_plummer_comparison.pdf',bbox_inches='tight')"
     ],
     "language": "python",
     "metadata": {},
     "outputs": []
    },
    {
     "cell_type": "markdown",
     "metadata": {},
     "source": [
      "## Testing velocity kicks for curved tracks"
     ]
    },
    {
     "cell_type": "markdown",
     "metadata": {},
     "source": [
      "### Testing general curved stream code"
     ]
    },
    {
     "cell_type": "code",
     "collapsed": false,
     "input": [
      "X = np.zeros((nv,3))\n",
      "X[:,1]=y\n",
      "deltav_general = galpy.df_src.streamgapdf.impulse_deltav_general_curvedstream(v,X,b,w,np.array([0.,0.,0.]),np.array([0.,2.,0.]),pot)\n",
      "plt.plot(X[:,1],deltav_general)\n",
      "plt.plot(X[:,1],deltav)"
     ],
     "language": "python",
     "metadata": {},
     "outputs": []
    },
    {
     "cell_type": "markdown",
     "metadata": {},
     "source": [
      "### Testing general Plummer code"
     ]
    },
    {
     "cell_type": "code",
     "collapsed": false,
     "input": [
      "X = np.zeros((nv,3))\n",
      "X[:,1]=y\n",
      "deltav_general_analytic = galpy.df_src.streamgapdf.impulse_deltav_plummer_curvedstream(v,X,b,w,np.array([0.,0.,0.]),np.array([0.,2.,0.]),GM,rs)\n",
      "plt.plot(X[:,1],deltav_general_analytic)\n",
      "a=plt.plot(y,deltav_general)"
     ],
     "language": "python",
     "metadata": {},
     "outputs": []
    },
    {
     "cell_type": "markdown",
     "metadata": {},
     "source": [
      "### Test general Hernquist code kicks\n",
      "NOTE THE FACTOR OF 2 IN THE AMPLITUDE OF THE HERNQUIST!!!"
     ]
    },
    {
     "cell_type": "code",
     "collapsed": false,
     "input": [
      "X = np.zeros((nv,3))\n",
      "X[:,1]=y\n",
      "rs=2.\n",
      "pot_h= HernquistPotential(amp=GM*2.,a=rs)\n",
      "deltav_general_analytic = galpy.df_src.streamgapdf.impulse_deltav_hernquist_curvedstream(v,X,b,w,np.array([0.,0.,0.]),np.array([0.,2.,0.]),GM,rs)\n",
      "deltav_general = galpy.df_src.streamgapdf.impulse_deltav_general_curvedstream(v,X,b,w,np.array([0.,0.,0.]),np.array([0.,2.,0.]),pot_h)\n",
      "plt.plot(y,deltav_general_analytic)\n",
      "a=plt.plot(y,deltav_general)"
     ],
     "language": "python",
     "metadata": {},
     "outputs": []
    },
    {
     "cell_type": "markdown",
     "metadata": {},
     "source": [
      "## 3. Calculating kicks with increasing levels of complexity\n",
      "\n",
      "The following generates Fig. 1 of SBE15\n",
      "\n",
      "We calculate the kicks in 4 ways:\n",
      "1. Assuming stream is straight line and subhalo moves in straight line\n",
      "2. Stream is a curved track, particles move in straight line and subhalo moves in straight line\n",
      "3. Stream particles follow orbits and subhalo moves in straight line\n",
      "4. Stream particles nad subhalo moves on orbits"
     ]
    },
    {
     "cell_type": "code",
     "collapsed": false,
     "input": [
      "G=4.300918e-6\n",
      "M=1e8\n",
      "rs_2=0.625\n",
      "b_2 = rs_2\n",
      "theta = np.linspace(-np.pi/4.,np.pi/4.,100)\n",
      "# theta = np.linspace(-np.pi/2.,np.pi/2.,100)\n",
      "rcurv = 10.\n",
      "xc,yc = rcurv*np.cos(theta),rcurv*np.sin(theta)\n",
      "Xc = np.zeros((100,3))\n",
      "Xc[:,0]=xc\n",
      "Xc[:,1]=yc\n",
      "vp = 220.\n",
      "vx,vy = -vp*np.sin(theta),vp*np.cos(theta)\n",
      "V = np.zeros((100,3))\n",
      "V[:,0]=vx\n",
      "V[:,1]=vy\n",
      "tmax = np.pi/(vp/rcurv)*.5\n",
      "# tmax = tmaxfac*rs/numpy.sqrt(numpy.sum((w-v0)**2))\n",
      "wn = np.array([0.,1.2/2.*220.,1.6/2.*220.])\n",
      "X0 = np.array([rcurv,0.,0.])\n",
      "V0 = np.array([0.,vp,0.])\n",
      "Xst = theta*rcurv\n",
      "Vst = np.tile([0.000001,vp,0.000001],(100,1))"
     ],
     "language": "python",
     "metadata": {},
     "outputs": []
    },
    {
     "cell_type": "code",
     "collapsed": false,
     "input": [
      "def add_subplot_axes(ax,rect,axisbg='w',scale_labels=False):\n",
      "    ''' Ripped off stackoverflow '''\n",
      "    fig = plt.gcf()\n",
      "    box = ax.get_position()\n",
      "    width = box.width\n",
      "    height = box.height\n",
      "    inax_position  = ax.transAxes.transform(rect[0:2])\n",
      "    transFigure = fig.transFigure.inverted()\n",
      "    infig_position = transFigure.transform(inax_position)    \n",
      "    x = infig_position[0]\n",
      "    y = infig_position[1]\n",
      "    width *= rect[2]\n",
      "    height *= rect[3]  # <= Typo was here\n",
      "    subax = fig.add_axes([x,y,width,height],axisbg=axisbg)\n",
      "    if(scale_labels):\n",
      "        x_labelsize = subax.get_xticklabels()[0].get_size()\n",
      "        y_labelsize = subax.get_yticklabels()[0].get_size()\n",
      "        x_labelsize *= rect[2]**0.5\n",
      "        y_labelsize *= rect[3]**0.5\n",
      "        subax.xaxis.set_tick_params(labelsize=x_labelsize)\n",
      "        subax.yaxis.set_tick_params(labelsize=y_labelsize)\n",
      "    return subax"
     ],
     "language": "python",
     "metadata": {},
     "outputs": []
    },
    {
     "cell_type": "code",
     "collapsed": false,
     "input": [
      "M=1e8\n",
      "rs_2=0.625\n",
      "b_2=rs_2\n",
      "pot_test = PlummerPotential(amp=G*M,b=rs_2)\n",
      "galpot = LogarithmicHaloPotential(220**2,q=0.9)\n",
      "deltav_curved = galpy.df_src.streamgapdf.impulse_deltav_general_curvedstream(V,Xc,-b_2,wn,X0,V0,pot_test)\n",
      "deltav_curved_r = galpy.df_src.streamgapdf.impulse_deltav_plummer(Vst,Xst,-b_2,wn,G*M,rs_2)\n",
      "deltav_curved_acc = galpy.df_src.streamgapdf.impulse_deltav_general_orbitintegration(V,Xc,-b_2,wn,X0,V0,pot_test,tmax,galpot)\n",
      "deltav_curved_full =galpy.df_src.streamgapdf.impulse_deltav_general_fullplummerintegration(V,Xc,-b_2,wn,X0,V0,galpot,G*M,rs_2)\n",
      "M=M/10.\n",
      "rs_2=0.25\n",
      "# b_2=rs_2\n",
      "pot_test = PlummerPotential(amp=G*M,b=rs_2)\n",
      "deltav_curved2 = galpy.df_src.streamgapdf.impulse_deltav_general_curvedstream(V,Xc,-b_2,wn,X0,V0,pot_test)\n",
      "deltav_curved_r2 = galpy.df_src.streamgapdf.impulse_deltav_plummer(Vst,Xst,-b_2,wn,G*M,rs_2)\n",
      "deltav_curved_acc2 = galpy.df_src.streamgapdf.impulse_deltav_general_orbitintegration(V,Xc,-b_2,wn,X0,V0,pot_test,tmax,galpot)\n",
      "deltav_curved_full2 =galpy.df_src.streamgapdf.impulse_deltav_general_fullplummerintegration(V,Xc,-b_2,wn,X0,V0,galpot,G*M,rs_2)"
     ],
     "language": "python",
     "metadata": {},
     "outputs": []
    },
    {
     "cell_type": "code",
     "collapsed": false,
     "input": [
      "matplotlib.rc('text', usetex=True)\n",
      "matplotlib.rcParams['text.latex.preamble']=[r\"\\usepackage{amsmath}\"]\n",
      "from matplotlib.ticker import MaxNLocator \n",
      "f,a=plt.subplots(1,5,figsize=(21,4))\n",
      "plt.subplots_adjust(wspace=0.33)\n",
      "labels = [r'$\\delta v^g_x/\\mathrm{km\\,s}^{-1}$',r'$\\delta v^g_y/\\mathrm{km\\,s}^{-1}$',r'$\\delta v^g_z/\\mathrm{km\\,s}^{-1}$',r'$(\\boldsymbol{v}\\cdot\\delta\\boldsymbol{v}^g)/|\\boldsymbol{v}|/\\mathrm{km\\,s}^{-1}$']\n",
      "absV = np.sqrt(np.sum(V*V,axis=1))\n",
      "for i in range(4):\n",
      "    if i<3:\n",
      "        a[i+1].plot(theta,deltav_curved[:,i],'k',label='curved')\n",
      "        l,=a[i+1].plot(theta,deltav_curved_r[:,i],'r--',label='straight')        \n",
      "        l.set_dashes([3.,1.])\n",
      "        l,=a[i+1].plot(theta,deltav_curved_acc[:,i],'b--',label='with acc.')\n",
      "        l.set_dashes([6.,1.])\n",
      "        l,=a[i+1].plot(theta,deltav_curved_full[:,i],'g--',label='full')\n",
      "        l.set_dashes([10.,2.])\n",
      "        a[i+1].plot(theta,deltav_curved2[:,i],'k',lw=1)\n",
      "        l,=a[i+1].plot(theta,deltav_curved_r2[:,i],'r--',lw=1)        \n",
      "        l.set_dashes([3.,1.])\n",
      "        l,=a[i+1].plot(theta,deltav_curved_acc2[:,i],'b--',lw=1)\n",
      "        l.set_dashes([6.,1.])\n",
      "        l,=a[i+1].plot(theta,deltav_curved_full2[:,i],'g--',lw=1)\n",
      "        l.set_dashes([10.,2.])\n",
      "    else:\n",
      "        a[i+1].plot(theta,np.sum(V*deltav_curved,axis=1)/absV,'k',label='curved')\n",
      "        l,=a[i+1].plot(theta,np.sum(V*deltav_curved_r,axis=1)/absV,'r--',label='straight')\n",
      "        l.set_dashes([3.,1.])\n",
      "        l,=a[i+1].plot(theta,np.sum(V*deltav_curved_acc,axis=1)/absV,'b--',label='with acc.')\n",
      "        l.set_dashes([6.,1.])\n",
      "        l,=a[i+1].plot(theta,np.sum(V*deltav_curved_full,axis=1)/absV,'g--',label='full')\n",
      "        l.set_dashes([10.,2.])\n",
      "        a[i+1].plot(theta,np.sum(V*deltav_curved2,axis=1)/absV,'k',lw=1)\n",
      "        l,=a[i+1].plot(theta,np.sum(V*deltav_curved_r2,axis=1)/absV,'r--',lw=1)\n",
      "        l.set_dashes([3.,1.])\n",
      "        l,=a[i+1].plot(theta,np.sum(V*deltav_curved_acc2,axis=1)/absV,'b--',lw=1)\n",
      "        l.set_dashes([6.,1.])\n",
      "        l,=a[i+1].plot(theta,np.sum(V*deltav_curved_full,axis=1)/absV,'g--',label='full')\n",
      "        l.set_dashes([10.,2.])\n",
      "    a[i+1].set_ylabel(labels[i])\n",
      "    a[i+1].set_xlabel(r'$\\phi/\\mathrm{rad}$')\n",
      "    a[i+1].axvline(np.arccos((rcurv-b_2)/rcurv),color='b',ls=':')\n",
      "    a[i+1].axvline(-np.arccos((rcurv-b_2)/rcurv),color='b',ls=':')\n",
      "    a[i+1].xaxis.set_major_locator(MaxNLocator(6))\n",
      "a[4].set_ylim(-4.,3.)\n",
      "\n",
      "inset_ax = add_subplot_axes(a[4],[0.,0.,1.,0.2])\n",
      "inset_ax.set_xticklabels([])\n",
      "inset_ax.yaxis.tick_right()\n",
      "inset_ax.plot(theta,np.sum(V*deltav_curved,axis=1)/absV-np.sum(V*deltav_curved_full,axis=1)/absV,color='k')\n",
      "inset_ax.plot(theta,np.sum(V*deltav_curved_r,axis=1)/absV-np.sum(V*deltav_curved_full,axis=1)/absV,color='r',ls='--')\n",
      "l.set_dashes([3.,1.])\n",
      "l,=inset_ax.plot(theta,np.sum(V*deltav_curved_acc,axis=1)/absV-np.sum(V*deltav_curved_r,axis=1)/absV,color='b',ls='--')\n",
      "l.set_dashes([6.,1.])\n",
      "inset_ax.plot(theta,np.sum(V*deltav_curved2,axis=1)/absV-np.sum(V*deltav_curved_full2,axis=1)/absV,color='k')\n",
      "inset_ax.plot(theta,np.sum(V*deltav_curved_r2,axis=1)/absV-np.sum(V*deltav_curved_full2,axis=1)/absV,color='r',ls='--')\n",
      "l.set_dashes([3.,1.])\n",
      "l,=inset_ax.plot(theta,np.sum(V*deltav_curved_acc2,axis=1)/absV-np.sum(V*deltav_curved_r2,axis=1)/absV,color='b',ls='--')\n",
      "l.set_dashes([6.,1.])\n",
      "inset_ax.xaxis.set_major_locator(MaxNLocator(6))\n",
      "inset_ax.yaxis.set_major_locator(MaxNLocator(3))\n",
      "inset_ax.text(0.25,.075,'Difference',fontsize=14)\n",
      "inset_ax.set_ylim(-.2,.2)\n",
      "a[0].plot(xc,yc,'k-')\n",
      "a[0].plot(np.linspace(0.,10.),np.tan(np.arccos((rcurv-b_2)/rcurv))*np.linspace(0.,10.),'b:')\n",
      "a[0].plot(np.linspace(0.,10.),-np.tan(np.arccos((rcurv-b_2)/rcurv))*np.linspace(0.,10.),'b:')\n",
      "a[0].plot([rcurv-b_2],[0.],'r.')\n",
      "a[0].plot([0.],[0.],'bx')\n",
      "a[0].set_xlabel(r'$x/\\mathrm{kpc}$')\n",
      "a[0].set_ylabel(r'$y/\\mathrm{kpc}$')\n",
      "a[0].set_aspect('equal')\n",
      "a[0].arrow(rcurv-b_2, 0., 0., 1.3, head_width=0.3, head_length=0.4, fc='r', ec='r')\n",
      "s = 0.4\n",
      "a[0].arrow(Xc[-1][0], Xc[-1][1], -s*np.sin(theta[-1]), s*np.cos(theta[-1]), head_width=0.3, head_length=0.4, fc='k', ec='k',lw=1.2)\n",
      "a[2].legend(frameon=False,handlelength=1,loc=3)\n",
      "a[2].text(-0.65,-0.5,r'$10^7M_\\odot$',fontsize=16)\n",
      "a[2].text(-0.65,1.7,r'$10^8M_\\odot$',fontsize=16)\n",
      "a[1].set_ylim(-4.,1.)\n",
      "a[0].annotate('(a)', xy=(0.95, 0.95), xycoords='axes fraction', fontsize=18,\n",
      "                horizontalalignment='right', verticalalignment='top')\n",
      "a[1].annotate('(b)', xy=(0.95, 0.95), xycoords='axes fraction', fontsize=18,\n",
      "                horizontalalignment='right', verticalalignment='top')\n",
      "a[2].annotate('(c)', xy=(0.95, 0.95), xycoords='axes fraction', fontsize=18,\n",
      "                horizontalalignment='right', verticalalignment='top')\n",
      "a[3].annotate('(d)', xy=(0.95, 0.95), xycoords='axes fraction', fontsize=18,\n",
      "                horizontalalignment='right', verticalalignment='top')\n",
      "a[4].annotate('(e)', xy=(0.95, 0.95), xycoords='axes fraction', fontsize=18,\n",
      "                horizontalalignment='right', verticalalignment='top')\n",
      "\n",
      "plt.savefig('curved_straight_comparison.pdf',bbox_inches='tight')"
     ],
     "language": "python",
     "metadata": {},
     "outputs": []
    },
    {
     "cell_type": "code",
     "collapsed": false,
     "input": [],
     "language": "python",
     "metadata": {},
     "outputs": []
    }
   ],
   "metadata": {}
  }
 ]
}