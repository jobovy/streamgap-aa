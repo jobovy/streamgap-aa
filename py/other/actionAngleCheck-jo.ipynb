{
 "cells": [
  {
   "cell_type": "code",
   "execution_count": 1,
   "metadata": {
    "collapsed": false
   },
   "outputs": [
    {
     "name": "stdout",
     "output_type": "stream",
     "text": [
      "Populating the interactive namespace from numpy and matplotlib\n"
     ]
    }
   ],
   "source": [
    "%pylab inline\n",
    "import os, os.path\n",
    "from galpy.actionAngle import actionAngleIsochroneApprox, \\\n",
    "    actionAngleTorus\n",
    "from galpy.potential import LogarithmicHaloPotential\n",
    "from galpy.orbit import Orbit\n",
    "from galpy.util import bovy_coords, bovy_conversion"
   ]
  },
  {
   "cell_type": "markdown",
   "metadata": {},
   "source": [
    "# Some checks on the accuracy of Jo's action-angle calculations"
   ]
  },
  {
   "cell_type": "code",
   "execution_count": 2,
   "metadata": {
    "collapsed": true
   },
   "outputs": [],
   "source": [
    "maxn= 3"
   ]
  },
  {
   "cell_type": "markdown",
   "metadata": {},
   "source": [
    "Potential etc."
   ]
  },
  {
   "cell_type": "code",
   "execution_count": 3,
   "metadata": {
    "collapsed": true
   },
   "outputs": [],
   "source": [
    "lp= LogarithmicHaloPotential(normalize=1.,q=0.9)\n",
    "R0, V0= 8., 220.\n",
    "def convert_to_cylindrical(xv):\n",
    "    R,phi,Z= bovy_coords.rect_to_cyl(xv[:,0],xv[:,1],xv[:,2])\n",
    "    vR,vT,vZ= bovy_coords.rect_to_cyl_vec(xv[:,3],xv[:,4],xv[:,5],R,phi,Z,cyl=True)\n",
    "    out= numpy.empty_like(xv)\n",
    "    # Preferred galpy arrangement of cylindrical coordinates\n",
    "    out[:,0]= R\n",
    "    out[:,1]= vR\n",
    "    out[:,2]= vT\n",
    "    out[:,3]= Z\n",
    "    out[:,4]= vZ\n",
    "    out[:,5]= phi\n",
    "    return out"
   ]
  },
  {
   "cell_type": "code",
   "execution_count": 4,
   "metadata": {
    "collapsed": false
   },
   "outputs": [
    {
     "name": "stdout",
     "output_type": "stream",
     "text": [
      "galpyWarning: Using C implementation to integrate orbits\n",
      "galpyWarning: The behavior of Orbit member functions has changed in versions > 0.1 to return positions in kpc, velocities in km/s, energies and the Jacobi integral in (km/s)^2, the angular momentum o.L() and actions in km/s kpc, frequencies in 1/Gyr, and times and periods in Gyr if a distance and velocity scale was specified upon Orbit initialization with ro=...,vo=...; you can turn this off by specifying use_physical=False when calling the function (e.g., o=Orbit(...); o.R(use_physical=False)\n"
     ]
    }
   ],
   "source": [
    "xv_prog_init= numpy.array([30.,0.,0.,0., 105.74895, 105.74895])\n",
    "RvR_prog_init= convert_to_cylindrical(xv_prog_init[:,numpy.newaxis].T)[0,:]\n",
    "prog_init= Orbit([RvR_prog_init[0]/R0,RvR_prog_init[1]/V0,RvR_prog_init[2]/V0,\n",
    "                  RvR_prog_init[3]/R0,RvR_prog_init[4]/V0,RvR_prog_init[5]],ro=R0,vo=V0)\n",
    "times= numpy.linspace(0.,10.88/bovy_conversion.time_in_Gyr(V0,R0),1001)\n",
    "prog_init.integrate(times,lp)\n",
    "xv_unp_peri_prog= [prog_init.x(times[-1])[0],prog_init.y(times[-1])[0],prog_init.z(times[-1]),\n",
    "              prog_init.vx(times[-1])[0],prog_init.vy(times[-1])[0],prog_init.vz(times[-1])]\n",
    "RvR_unp_peri_prog= convert_to_cylindrical(numpy.array(xv_unp_peri_prog)[:,numpy.newaxis].T)[0,:]\n",
    "prog_unp_peri= Orbit([RvR_unp_peri_prog[0]/R0,RvR_unp_peri_prog[1]/V0,RvR_unp_peri_prog[2]/V0,\n",
    "                      RvR_unp_peri_prog[3]/R0+0.0,RvR_unp_peri_prog[4]/V0,RvR_unp_peri_prog[5]]) # Normalized coordinates"
   ]
  },
  {
   "cell_type": "markdown",
   "metadata": {},
   "source": [
    "We calculate the actions using actionAngleIsochroneApprox, then calculate the phase-space position using actionAngleTorus and then again the actions, frequencies, and angles using actionAngleIsochroneApprox"
   ]
  },
  {
   "cell_type": "code",
   "execution_count": 5,
   "metadata": {
    "collapsed": true
   },
   "outputs": [],
   "source": [
    "aAIA= actionAngleIsochroneApprox(pot=lp,b=0.8)\n",
    "aAT= actionAngleTorus(pot=lp,tol=10.**-3.)"
   ]
  },
  {
   "cell_type": "code",
   "execution_count": 6,
   "metadata": {
    "collapsed": false
   },
   "outputs": [],
   "source": [
    "w_start= aAIA.actionsFreqsAngles(prog_unp_peri,maxn=maxn)"
   ]
  },
  {
   "cell_type": "code",
   "execution_count": 7,
   "metadata": {
    "collapsed": false
   },
   "outputs": [],
   "source": [
    "xvFreqs_torus= aAT.xvFreqs(w_start[0],w_start[1],w_start[2],\n",
    "                          w_start[6],w_start[7],w_start[8])"
   ]
  },
  {
   "cell_type": "code",
   "execution_count": 8,
   "metadata": {
    "collapsed": false
   },
   "outputs": [],
   "source": [
    "w_final= aAIA.actionsFreqsAngles(*xvFreqs_torus[:6],maxn=maxn)"
   ]
  },
  {
   "cell_type": "markdown",
   "metadata": {},
   "source": [
    "Actions"
   ]
  },
  {
   "cell_type": "code",
   "execution_count": 9,
   "metadata": {
    "collapsed": false
   },
   "outputs": [
    {
     "name": "stdout",
     "output_type": "stream",
     "text": [
      "[ 0.00962444]\n",
      "[  1.23184361e-16]\n",
      "[-0.00643492]\n"
     ]
    }
   ],
   "source": [
    "print (w_final[0]-w_start[0])/w_start[0]\n",
    "print (w_final[1]-w_start[1])/w_start[1]\n",
    "print (w_final[2]-w_start[2])/w_start[2]"
   ]
  },
  {
   "cell_type": "markdown",
   "metadata": {},
   "source": [
    "Frequencies"
   ]
  },
  {
   "cell_type": "code",
   "execution_count": 10,
   "metadata": {
    "collapsed": false
   },
   "outputs": [
    {
     "name": "stdout",
     "output_type": "stream",
     "text": [
      "[ 0.00017314]\n",
      "[  8.92091775e-05]\n",
      "[ 0.0003473]\n"
     ]
    }
   ],
   "source": [
    "print (w_final[3]-w_start[3])/w_start[3]\n",
    "print (w_final[4]-w_start[4])/w_start[4]\n",
    "print (w_final[5]-w_start[5])/w_start[5]"
   ]
  },
  {
   "cell_type": "markdown",
   "metadata": {},
   "source": [
    "Angles"
   ]
  },
  {
   "cell_type": "code",
   "execution_count": 11,
   "metadata": {
    "collapsed": false
   },
   "outputs": [
    {
     "name": "stdout",
     "output_type": "stream",
     "text": [
      "[ -6.41139326e-05]\n",
      "[ 0.00042028]\n",
      "[-0.00043099]\n"
     ]
    }
   ],
   "source": [
    "print w_final[6]-w_start[6]\n",
    "print w_final[7]-w_start[7]\n",
    "print w_final[8]-w_start[8]"
   ]
  },
  {
   "cell_type": "markdown",
   "metadata": {},
   "source": [
    "## Same for the gap location"
   ]
  },
  {
   "cell_type": "code",
   "execution_count": 12,
   "metadata": {
    "collapsed": false
   },
   "outputs": [],
   "source": [
    "xv_gap= numpy.loadtxt(os.path.join(os.getenv('DATADIR'),'streamgap-aa','nonzeroJz','gap_location_2nd_peri.txt'))[:6]\n",
    "RvR_gap= convert_to_cylindrical(xv_gap[:,numpy.newaxis].T)[0,:]\n",
    "gap_orb= Orbit([RvR_gap[0]/R0,RvR_gap[1]/V0,RvR_gap[2]/V0,\n",
    "                RvR_gap[3]/R0,RvR_gap[4]/V0,RvR_gap[5]])"
   ]
  },
  {
   "cell_type": "code",
   "execution_count": 13,
   "metadata": {
    "collapsed": true
   },
   "outputs": [],
   "source": [
    "w_start= aAIA.actionsFreqsAngles(gap_orb,maxn=maxn)"
   ]
  },
  {
   "cell_type": "code",
   "execution_count": 14,
   "metadata": {
    "collapsed": true
   },
   "outputs": [],
   "source": [
    "xvFreqs_torus= aAT.xvFreqs(w_start[0],w_start[1],w_start[2],\n",
    "                          w_start[6],w_start[7],w_start[8])"
   ]
  },
  {
   "cell_type": "code",
   "execution_count": 15,
   "metadata": {
    "collapsed": true
   },
   "outputs": [],
   "source": [
    "w_final= aAIA.actionsFreqsAngles(*xvFreqs_torus[:6],maxn=maxn)"
   ]
  },
  {
   "cell_type": "markdown",
   "metadata": {},
   "source": [
    "Actions"
   ]
  },
  {
   "cell_type": "code",
   "execution_count": 16,
   "metadata": {
    "collapsed": false
   },
   "outputs": [
    {
     "name": "stdout",
     "output_type": "stream",
     "text": [
      "[ 0.0043883]\n",
      "[  1.21471068e-16]\n",
      "[-0.00211472]\n"
     ]
    }
   ],
   "source": [
    "print (w_final[0]-w_start[0])/w_start[0]\n",
    "print (w_final[1]-w_start[1])/w_start[1]\n",
    "print (w_final[2]-w_start[2])/w_start[2]"
   ]
  },
  {
   "cell_type": "markdown",
   "metadata": {},
   "source": [
    "Frequencies"
   ]
  },
  {
   "cell_type": "code",
   "execution_count": 17,
   "metadata": {
    "collapsed": false
   },
   "outputs": [
    {
     "name": "stdout",
     "output_type": "stream",
     "text": [
      "[ -8.97784663e-05]\n",
      "[-0.00013358]\n",
      "[ -3.39723704e-05]\n"
     ]
    }
   ],
   "source": [
    "print (w_final[3]-w_start[3])/w_start[3]\n",
    "print (w_final[4]-w_start[4])/w_start[4]\n",
    "print (w_final[5]-w_start[5])/w_start[5]"
   ]
  },
  {
   "cell_type": "markdown",
   "metadata": {},
   "source": [
    "Angles"
   ]
  },
  {
   "cell_type": "code",
   "execution_count": 18,
   "metadata": {
    "collapsed": false
   },
   "outputs": [
    {
     "name": "stdout",
     "output_type": "stream",
     "text": [
      "[-0.00056908]\n",
      "[ 0.00092115]\n",
      "[ 0.00073651]\n"
     ]
    }
   ],
   "source": [
    "print w_final[6]-w_start[6]\n",
    "print w_final[7]-w_start[7]\n",
    "print w_final[8]-w_start[8]"
   ]
  },
  {
   "cell_type": "code",
   "execution_count": null,
   "metadata": {
    "collapsed": true
   },
   "outputs": [],
   "source": []
  }
 ],
 "metadata": {
  "kernelspec": {
   "display_name": "Python 2",
   "language": "python",
   "name": "python2"
  },
  "language_info": {
   "codemirror_mode": {
    "name": "ipython",
    "version": 2
   },
   "file_extension": ".py",
   "mimetype": "text/x-python",
   "name": "python",
   "nbconvert_exporter": "python",
   "pygments_lexer": "ipython2",
   "version": "2.7.6"
  }
 },
 "nbformat": 4,
 "nbformat_minor": 0
}
