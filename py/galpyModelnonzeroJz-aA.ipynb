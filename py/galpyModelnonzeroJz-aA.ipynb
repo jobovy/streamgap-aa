{
 "cells": [
  {
   "cell_type": "code",
   "execution_count": 1,
   "metadata": {
    "collapsed": false
   },
   "outputs": [
    {
     "name": "stdout",
     "output_type": "stream",
     "text": [
      "Populating the interactive namespace from numpy and matplotlib\n"
     ]
    }
   ],
   "source": [
    "%pylab inline\n",
    "try:\n",
    "    reload(galpy.df_src.streamgapdf)\n",
    "    reload(galpy.df_src.streamgapdf.galpy.df_src.streamdf)\n",
    "except NameError:\n",
    "    import galpy.df_src.streamgapdf\n",
    "import os, os.path\n",
    "import copy\n",
    "from scipy import interpolate\n",
    "from galpy.orbit import Orbit\n",
    "from galpy.potential import LogarithmicHaloPotential\n",
    "from galpy.actionAngle import actionAngleIsochroneApprox, estimateBIsochrone\n",
    "from galpy.df import streamdf\n",
    "from galpy.util import bovy_plot, bovy_coords, bovy_conversion #for unit conversions"
   ]
  },
  {
   "cell_type": "markdown",
   "metadata": {},
   "source": [
    "# Exploration of the simulation in action-angle coordinates"
   ]
  },
  {
   "cell_type": "markdown",
   "metadata": {},
   "source": [
    "We've calculated the actions, frequencies, and angles using the calc_actions.py code; load them for the unperturbed stream"
   ]
  },
  {
   "cell_type": "code",
   "execution_count": 2,
   "metadata": {
    "collapsed": false
   },
   "outputs": [],
   "source": [
    "aaid1= numpy.loadtxt(os.path.join(os.getenv('DATADIR'),'streamgap-aa','nonzeroJz','snapshot_2nd_peri_unperturbed_aA1.txt'),\n",
    "                     delimiter=',')\n",
    "aaid2= numpy.loadtxt(os.path.join(os.getenv('DATADIR'),'streamgap-aa','nonzeroJz','snapshot_2nd_peri_unperturbed_aA2.txt'),\n",
    "                     delimiter=',')\n",
    "aaid= numpy.vstack((aaid1,aaid2))\n",
    "aaid= aaid[numpy.argsort(aaid[:,9])]"
   ]
  },
  {
   "cell_type": "code",
   "execution_count": 3,
   "metadata": {
    "collapsed": false
   },
   "outputs": [],
   "source": [
    "freqs_unp= aaid[:,3:6]\n",
    "angles_unp= aaid[:,6:9]"
   ]
  },
  {
   "cell_type": "markdown",
   "metadata": {},
   "source": [
    "We set up the same galpy model as in the other notebook"
   ]
  },
  {
   "cell_type": "code",
   "execution_count": 4,
   "metadata": {
    "collapsed": true
   },
   "outputs": [],
   "source": [
    "lp= LogarithmicHaloPotential(normalize=1.,q=0.9)\n",
    "R0, V0= 8., 220."
   ]
  },
  {
   "cell_type": "code",
   "execution_count": 5,
   "metadata": {
    "collapsed": true
   },
   "outputs": [],
   "source": [
    "def convert_to_cylindrical(xv):\n",
    "    R,phi,Z= bovy_coords.rect_to_cyl(xv[:,0],xv[:,1],xv[:,2])\n",
    "    vR,vT,vZ= bovy_coords.rect_to_cyl_vec(xv[:,3],xv[:,4],xv[:,5],R,phi,Z,cyl=True)\n",
    "    out= numpy.empty_like(xv)\n",
    "    # Preferred galpy arrangement of cylindrical coordinates\n",
    "    out[:,0]= R\n",
    "    out[:,1]= vR\n",
    "    out[:,2]= vT\n",
    "    out[:,3]= Z\n",
    "    out[:,4]= vZ\n",
    "    out[:,5]= phi\n",
    "    return out"
   ]
  },
  {
   "cell_type": "code",
   "execution_count": 6,
   "metadata": {
    "collapsed": false
   },
   "outputs": [
    {
     "name": "stdout",
     "output_type": "stream",
     "text": [
      "galpyWarning: Using C implementation to integrate orbits\n",
      "galpyWarning: The behavior of Orbit member functions has changed in versions > 0.1 to return positions in kpc, velocities in km/s, energies and the Jacobi integral in (km/s)^2, the angular momentum o.L() and actions in km/s kpc, frequencies in 1/Gyr, and times and periods in Gyr if a distance and velocity scale was specified upon Orbit initialization with ro=...,vo=...; you can turn this off by specifying use_physical=False when calling the function (e.g., o=Orbit(...); o.R(use_physical=False)\n"
     ]
    }
   ],
   "source": [
    "xv_prog_init= numpy.array([30.,0.,0.,0., 105.74895, 105.74895])\n",
    "RvR_prog_init= convert_to_cylindrical(xv_prog_init[:,numpy.newaxis].T)[0,:]\n",
    "prog_init= Orbit([RvR_prog_init[0]/R0,RvR_prog_init[1]/V0,RvR_prog_init[2]/V0,\n",
    "                  RvR_prog_init[3]/R0,RvR_prog_init[4]/V0,RvR_prog_init[5]],ro=R0,vo=V0)\n",
    "times= numpy.linspace(0.,10.88/bovy_conversion.time_in_Gyr(V0,R0),1001)\n",
    "prog_init.integrate(times,lp)\n",
    "xv_unp_peri_prog= [prog_init.x(times[-1])[0],prog_init.y(times[-1])[0],prog_init.z(times[-1]),\n",
    "              prog_init.vx(times[-1])[0],prog_init.vy(times[-1])[0],prog_init.vz(times[-1])]\n",
    "RvR_unp_peri_prog= convert_to_cylindrical(numpy.array(xv_unp_peri_prog)[:,numpy.newaxis].T)[0,:]\n",
    "prog_unp_peri= Orbit([RvR_unp_peri_prog[0]/R0,RvR_unp_peri_prog[1]/V0,RvR_unp_peri_prog[2]/V0,\n",
    "                      RvR_unp_peri_prog[3]/R0+0.0,RvR_unp_peri_prog[4]/V0,RvR_unp_peri_prog[5]])"
   ]
  },
  {
   "cell_type": "code",
   "execution_count": 7,
   "metadata": {
    "collapsed": true
   },
   "outputs": [],
   "source": [
    "aAI= actionAngleIsochroneApprox(pot=lp,b=0.8)"
   ]
  },
  {
   "cell_type": "code",
   "execution_count": 8,
   "metadata": {
    "collapsed": true
   },
   "outputs": [],
   "source": [
    "sigv= 0.365*(10./2.)**(1./3.) # km/s, based on M^(1/3) scaling applied to 10^5 vs. 2x10^4 in my paper"
   ]
  },
  {
   "cell_type": "code",
   "execution_count": 9,
   "metadata": {
    "collapsed": false
   },
   "outputs": [],
   "source": [
    "sdfl_unp_peri= streamdf(sigv/V0,progenitor=prog_unp_peri,pot=lp,aA=aAI,\n",
    "                        leading=False,nTrackChunks=26,nTrackIterations=1,\n",
    "                        tdisrupt=10.88/bovy_conversion.time_in_Gyr(V0,R0),\n",
    "                        Vnorm=V0,Rnorm=R0)"
   ]
  },
  {
   "cell_type": "markdown",
   "metadata": {},
   "source": [
    "We also set up a stream instance with ``sigMeanOffset=4.5``, which seems to give a better fit to the stream (see below)"
   ]
  },
  {
   "cell_type": "code",
   "execution_count": 10,
   "metadata": {
    "collapsed": true
   },
   "outputs": [],
   "source": [
    "sdfl_unp_peri_sm45= streamdf(sigv/V0,progenitor=prog_unp_peri,pot=lp,aA=aAI,\n",
    "                            leading=False,nTrackChunks=26,nTrackIterations=1,\n",
    "                             sigMeanOffset=4.5,\n",
    "                            tdisrupt=10.88/bovy_conversion.time_in_Gyr(V0,R0),\n",
    "                            Vnorm=V0,Rnorm=R0)"
   ]
  },
  {
   "cell_type": "markdown",
   "metadata": {},
   "source": [
    "Let's calculate the parallell direction from the data and compare it to that in the model"
   ]
  },
  {
   "cell_type": "code",
   "execution_count": 11,
   "metadata": {
    "collapsed": false
   },
   "outputs": [],
   "source": [
    "# Only use particles not bound to the progenitor\n",
    "thetar= angles_unp[:,0]\n",
    "thetar= (numpy.pi+(thetar-numpy.median(thetar))) % (2.*numpy.pi)\n",
    "indx= numpy.fabs(thetar-numpy.pi) > (5.*numpy.median(numpy.fabs(thetar-numpy.median(thetar))))\n",
    "Or= freqs_unp[:,0]\n",
    "Op= freqs_unp[:,1]\n",
    "Oz= freqs_unp[:,2]\n",
    "dOr= Or[indx]-numpy.median(Or)\n",
    "dOp= Op[indx]-numpy.median(Op)\n",
    "dOz= Oz[indx]-numpy.median(Oz)\n",
    "dO= numpy.vstack((dOr,dOp,dOz))*bovy_conversion.freq_in_Gyr(220.,8.)\n",
    "dO4dir= copy.copy(dO)\n",
    "dO4dir[:,dO4dir[:,0] < 0.]*= -1.\n",
    "dOdir= numpy.median(dO4dir,axis=1)\n",
    "dOdir/= numpy.sqrt(numpy.sum(dOdir**2.))\n",
    "dO1d= numpy.dot(dOdir,dO)"
   ]
  },
  {
   "cell_type": "code",
   "execution_count": 12,
   "metadata": {
    "collapsed": false
   },
   "outputs": [
    {
     "name": "stdout",
     "output_type": "stream",
     "text": [
      "[-0.70156434 -0.47947009 -0.5271773 ] [-0.6936491  -0.48167747 -0.53557234] [-0.01128226  0.00460379  0.0159245 ]\n"
     ]
    }
   ],
   "source": [
    "print dOdir, sdfl_unp_peri._dsigomeanProgDirection, (dOdir-sdfl_unp_peri._dsigomeanProgDirection)/numpy.fabs(dOdir)"
   ]
  },
  {
   "cell_type": "code",
   "execution_count": 13,
   "metadata": {
    "collapsed": false
   },
   "outputs": [
    {
     "data": {
      "text/plain": [
       "[<matplotlib.lines.Line2D at 0x10b9a0050>]"
      ]
     },
     "execution_count": 13,
     "metadata": {},
     "output_type": "execute_result"
    },
    {
     "data": {
      "image/png": "[encoded data removed]",
      "text/plain": [
       "<matplotlib.figure.Figure at 0x10ee29850>"
      ]
     },
     "metadata": {},
     "output_type": "display_data"
    }
   ],
   "source": [
    "bovy_plot.bovy_plot(dOr,dOz,'k,',\n",
    "                    xlabel=r'$\\Delta \\Omega_R$',ylabel=r'$\\Delta \\Omega_Z$',\n",
    "                    zorder=0)\n",
    "xs= numpy.linspace(numpy.amin(dOr),numpy.amax(dOr),2)\n",
    "ys= sdfl_unp_peri._dsigomeanProgDirection[2]/sdfl_unp_peri._dsigomeanProgDirection[0]*xs\n",
    "bovy_plot.bovy_plot(xs,ys,'b-',overplot=True,zorder=1,lw=2.)"
   ]
  },
  {
   "cell_type": "markdown",
   "metadata": {},
   "source": [
    "Well, that worked remarkably well! Let's now look at how well we model the distribution of parallel frequencies"
   ]
  },
  {
   "cell_type": "code",
   "execution_count": 14,
   "metadata": {
    "collapsed": false
   },
   "outputs": [
    {
     "data": {
      "text/plain": [
       "[<matplotlib.lines.Line2D at 0x1145006d0>]"
      ]
     },
     "execution_count": 14,
     "metadata": {},
     "output_type": "execute_result"
    },
    {
     "data": {
      "image/png": "[encoded data removed]",
      "text/plain": [
       "<matplotlib.figure.Figure at 0x10d01bd10>"
      ]
     },
     "metadata": {},
     "output_type": "display_data"
    }
   ],
   "source": [
    "dum= bovy_plot.bovy_hist(numpy.fabs(dO1d),\n",
    "                        xrange=[0.,0.5],normed=True,\n",
    "                       histtype='step',color='k',bins=301,zorder=0,\n",
    "                        xlabel=r'$|\\Delta \\Omega_\\parallel|\\,(\\mathrm{Gyr}^{-1})$')\n",
    "xs= numpy.linspace(0.,0.5,1001)\n",
    "ys= xs*numpy.exp(-0.5*(xs/bovy_conversion.freq_in_Gyr(V0,R0)-sdfl_unp_peri._meandO)**2./sdfl_unp_peri._sortedSigOEig[2])\n",
    "ys/= numpy.sum(ys)*(xs[1]-xs[0])\n",
    "bovy_plot.bovy_plot(xs,ys,'b-',overplot=True,zorder=1)\n",
    "# same for sm5\n",
    "xs= numpy.linspace(0.,0.5,1001)\n",
    "ys= xs*numpy.exp(-0.5*(xs/bovy_conversion.freq_in_Gyr(V0,R0)-sdfl_unp_peri_sm45._meandO)**2./sdfl_unp_peri_sm45._sortedSigOEig[2])\n",
    "ys/= numpy.sum(ys)*(xs[1]-xs[0])\n",
    "bovy_plot.bovy_plot(xs,ys,'g-',overplot=True,zorder=1)"
   ]
  },
  {
   "cell_type": "code",
   "execution_count": 15,
   "metadata": {
    "collapsed": false
   },
   "outputs": [
    {
     "name": "stdout",
     "output_type": "stream",
     "text": [
      "0.297555135223 0.2396252308 0.194686286892\n"
     ]
    }
   ],
   "source": [
    "print numpy.mean(numpy.fabs(dO1d)), numpy.sum(ys*xs)/numpy.sum(ys), (numpy.mean(numpy.fabs(dO1d))-numpy.sum(ys*xs)/numpy.sum(ys))/numpy.mean(numpy.fabs(dO1d))"
   ]
  },
  {
   "cell_type": "markdown",
   "metadata": {},
   "source": [
    "Let's also calculate the parallel angles and look at parallel frequency vs. parallel angle"
   ]
  },
  {
   "cell_type": "code",
   "execution_count": 16,
   "metadata": {
    "collapsed": true
   },
   "outputs": [],
   "source": [
    "ar= angles_unp[:,0]\n",
    "ap= angles_unp[:,1]\n",
    "az= angles_unp[:,2]\n",
    "# Patch them up by hand ...\n",
    "indx1= (ar > 4.5)*(ar < 7.)*(az > 1.)*(az < 3.)\n",
    "ar[indx1]-= 2.*numpy.pi\n",
    "ap[indx1]-= 2.*numpy.pi\n",
    "indx2= (ar > 4.5)*(ar < 7.)*(az < 1.)\n",
    "az[indx2]+= 2.*numpy.pi\n",
    "indx3= (ap > 4.5)*(ar < 2.5)\n",
    "ap[indx3]-= 2.*numpy.pi\n",
    "dar= ar[indx]-numpy.median(ar)\n",
    "dap= ap[indx]-numpy.median(ap)\n",
    "daz= az[indx]-numpy.median(az)\n",
    "da= numpy.vstack((dar,dap,daz))\n",
    "da1d= numpy.dot(dOdir,da)"
   ]
  },
  {
   "cell_type": "code",
   "execution_count": 17,
   "metadata": {
    "collapsed": false
   },
   "outputs": [
    {
     "data": {
      "text/plain": [
       "[<matplotlib.lines.Line2D at 0x110f34e90>]"
      ]
     },
     "execution_count": 17,
     "metadata": {},
     "output_type": "execute_result"
    },
    {
     "data": {
      "image/png": "[encoded data removed]",
      "text/plain": [
       "<matplotlib.figure.Figure at 0x1165bce10>"
      ]
     },
     "metadata": {},
     "output_type": "display_data"
    }
   ],
   "source": [
    "bovy_plot.bovy_plot(numpy.fabs(da1d),numpy.fabs(dO1d),'k,',\n",
    "                    zorder=0,\n",
    "                   xlabel=r'$\\theta_\\parallel$',\n",
    "                   ylabel=r'$|\\Delta \\Omega_\\parallel|\\,(\\mathrm{Gyr}^{-1})$')\n",
    "xs= numpy.linspace(0.,6.,101)\n",
    "ys= numpy.array([sdfl_unp_peri.meanOmega(x,oned=True) for x in xs])*bovy_conversion.freq_in_Gyr(V0,R0)\n",
    "bovy_plot.bovy_plot(xs,ys,'b-',overplot=True,zorder=1,lw=2.)\n",
    "# Same for sm5\n",
    "ys= numpy.array([sdfl_unp_peri_sm45.meanOmega(x,oned=True) for x in xs])*bovy_conversion.freq_in_Gyr(V0,R0)\n",
    "bovy_plot.bovy_plot(xs,ys,'g-',overplot=True,zorder=1,lw=2.)"
   ]
  },
  {
   "cell_type": "markdown",
   "metadata": {},
   "source": [
    "How do the frequencies and angles of the progenitor compare in the simulation and the model?"
   ]
  },
  {
   "cell_type": "code",
   "execution_count": 20,
   "metadata": {
    "collapsed": false
   },
   "outputs": [
    {
     "name": "stdout",
     "output_type": "stream",
     "text": [
      "0.509437038134 0.348684769815 0.382901584749\n",
      "[ 0.5094622   0.34870253  0.38292221]\n",
      "[ -4.93877896e-05  -5.09391639e-05  -5.38684346e-05]\n"
     ]
    }
   ],
   "source": [
    "print numpy.median(Or), numpy.median(Op), numpy.median(Oz)\n",
    "print sdfl_unp_peri_sm45._progenitor_Omega\n",
    "print (numpy.hstack((numpy.median(Or), numpy.median(Op), numpy.median(Oz)))-sdfl_unp_peri_sm45._progenitor_Omega)/sdfl_unp_peri_sm45._progenitor_Omega"
   ]
  },
  {
   "cell_type": "code",
   "execution_count": 21,
   "metadata": {
    "collapsed": false
   },
   "outputs": [
    {
     "name": "stdout",
     "output_type": "stream",
     "text": [
      "1.9522975979 -0.11907799484 4.07880813942\n",
      "[ 1.95732492  6.16753224  4.08233059]\n",
      "[ -2.56846768e-03  -1.01930724e+00  -8.62852054e-04]\n"
     ]
    }
   ],
   "source": [
    "print numpy.median(ar), numpy.median(ap), numpy.median(az)\n",
    "print sdfl_unp_peri_sm45._progenitor_angle\n",
    "print (numpy.hstack((numpy.median(ar), numpy.median(ap), numpy.median(az)))-sdfl_unp_peri_sm45._progenitor_angle)/sdfl_unp_peri_sm45._progenitor_angle"
   ]
  },
  {
   "cell_type": "code",
   "execution_count": null,
   "metadata": {
    "collapsed": true
   },
   "outputs": [],
   "source": []
  }
 ],
 "metadata": {
  "kernelspec": {
   "display_name": "Python 2",
   "language": "python",
   "name": "python2"
  },
  "language_info": {
   "codemirror_mode": {
    "name": "ipython",
    "version": 2
   },
   "file_extension": ".py",
   "mimetype": "text/x-python",
   "name": "python",
   "nbconvert_exporter": "python",
   "pygments_lexer": "ipython2",
   "version": "2.7.6"
  }
 },
 "nbformat": 4,
 "nbformat_minor": 0
}
